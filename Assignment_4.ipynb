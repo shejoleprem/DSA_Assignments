{
 "cells": [
  {
   "cell_type": "markdown",
   "id": "836991ab",
   "metadata": {},
   "source": [
    "## Assignment_4"
   ]
  },
  {
   "cell_type": "markdown",
   "id": "40415fa6",
   "metadata": {},
   "source": [
    "### Question 1: Given three integer arrays arr1, arr2 and arr3 sorted in strictly increasing order, return a sorted array of only the integers that appeared in all three arrays."
   ]
  },
  {
   "cell_type": "markdown",
   "id": "1e400f0f",
   "metadata": {},
   "source": [
    "package Assignment_4;\n",
    "\n",
    "import java.util.HashMap;\n",
    "\n",
    "import java.util.Map;\n",
    "\n",
    "public class Q1 {\n",
    "\n",
    "\n",
    "    public static void main(String[] args) {\n",
    "        int []arr1 = {1,2,3,4,5};\n",
    "        int []arr2 = {1,2,5,7,9};\n",
    "        int []arr3 = {1,3,4,5,8};\n",
    "        HashMap<Integer,Integer>map=new HashMap<>();\n",
    "        for(int i=0;i<arr1.length;i++){\n",
    "\n",
    "                map.put(arr1[i],1);\n",
    "\n",
    "        }\n",
    "        for(int i=0;i<arr2.length;i++){\n",
    "            if(i==0){\n",
    "                if(map.containsKey(arr2[i])){\n",
    "                    map.put(arr2[i],map.get(arr2[i])+1);\n",
    "                }else{\n",
    "                    map.put(arr2[i],1);\n",
    "                }\n",
    "            }else{\n",
    "                if(arr2[i-1]!=arr2[i]){\n",
    "                    if(map.containsKey(arr2[i])){\n",
    "                        map.put(arr2[i],map.get(arr2[i])+1);\n",
    "                    }else{\n",
    "                        map.put(arr2[i],1);\n",
    "                    }\n",
    "                }\n",
    "            }\n",
    "        }\n",
    "\n",
    "        for(int i=0;i<arr3.length;i++){\n",
    "            if(i==0){\n",
    "                if(map.containsKey(arr3[i])){\n",
    "                    map.put(arr3[i],map.get(arr3[i])+1);\n",
    "                }else{\n",
    "                    map.put(arr3[i],1);\n",
    "                }\n",
    "            }else{\n",
    "                if(arr3[i-1]!=arr3[i]){\n",
    "                    if(map.containsKey(arr3[i])){\n",
    "                        map.put(arr3[i],map.get(arr3[i])+1);\n",
    "                    }else{\n",
    "                        map.put(arr3[i],1);\n",
    "                    }\n",
    "                }\n",
    "            }\n",
    "        }\n",
    "\n",
    "        for(int i=0;i<arr1.length;i++){\n",
    "            if(map.get(arr1[i])==3){\n",
    "                System.out.print(arr1[i]+\" \");\n",
    "            }\n",
    "        }\n",
    "\n",
    "\n",
    "    }\n",
    "}\n"
   ]
  },
  {
   "cell_type": "markdown",
   "id": "327d6400",
   "metadata": {},
   "source": [
    "### Question 2:Given two **0-indexed** integer arrays nums1 and nums2, return *a list* answer *of size* 2 *where:*answer[0] *is a list of all **distinct** integers in* nums1 *which are **not** present in* nums2*.*answer[1] *is a list of all **distinct** integers in* nums2 *which are **not** present in* nums1.\n"
   ]
  },
  {
   "cell_type": "markdown",
   "id": "ff43f819",
   "metadata": {},
   "source": [
    "package Assignment_4;\n",
    "\n",
    "import java.util.*;\n",
    "\n",
    "public class Q2 {\n",
    "\n",
    "    public static void main(String[] args) {\n",
    "        int [] nums1 = {1,2,3};\n",
    "        int[] nums2 = {2,4,6};\n",
    "        List<List<Integer>> li=findDifference(nums1,nums2);\n",
    "        System.out.println(li);\n",
    "    }\n",
    "    public static List<List<Integer>> findDifference(int[] nums1, int[] nums2) {\n",
    "        List<List<Integer>>l=new ArrayList<>();\n",
    "        List<Integer>l1=new ArrayList<>();\n",
    "        List<Integer>l2=new ArrayList<>();\n",
    "        HashSet<Integer>s1=new HashSet<>();\n",
    "        HashSet<Integer>s2=new HashSet<>();\n",
    "\n",
    "        for(int i=0;i<nums1.length;i++){\n",
    "            s1.add(nums1[i]);\n",
    "        }\n",
    "\n",
    "        for(int i=0;i<nums2.length;i++){\n",
    "            s2.add(nums2[i]);\n",
    "        }\n",
    "        for(int i=0;i<nums1.length;i++){\n",
    "            if(s2.contains(nums1[i])==false){\n",
    "                if(l1.contains(nums1[i])==false){\n",
    "                    l1.add(nums1[i]);\n",
    "                }\n",
    "            }\n",
    "        }\n",
    "        for(int i=0;i<nums2.length;i++){\n",
    "            if(s1.contains(nums2[i])==false){\n",
    "                if(l2.contains(nums2[i])==false){\n",
    "                    l2.add(nums2[i]);\n",
    "                }\n",
    "            }\n",
    "        }\n",
    "        l.add(l1);\n",
    "        l.add(l2);\n",
    "\n",
    "        return l;\n",
    "\n",
    "\n",
    "    }\n",
    "}\n"
   ]
  },
  {
   "cell_type": "markdown",
   "id": "59b65d03",
   "metadata": {},
   "source": [
    "### Question 3: Given a 2D integer array matrix, return *the **transpose** of* matrix.\n"
   ]
  },
  {
   "cell_type": "markdown",
   "id": "2ca698b4",
   "metadata": {},
   "source": [
    "package Assignment_4;\n",
    "\n",
    "public class Q3 {\n",
    "\n",
    "    public static void main(String[] args) {\n",
    "       int[][] matrix = {{1,2,3},{4,5,6},{7,8,9}};\n",
    "       int mat[][]=transpose(matrix);\n",
    "       for(int i=0;i<mat.length;i++){\n",
    "           for(int j=0;j<mat[i].length;j++){\n",
    "               System.out.print(mat[i][j]+\" \");\n",
    "           }\n",
    "           System.out.println();\n",
    "       }\n",
    "\n",
    "    }\n",
    "    public static int[][] transpose(int[][] matrix) {\n",
    "        int m=matrix.length;\n",
    "        int n=matrix[0].length;\n",
    "        int mat[][]=new int[n][m];\n",
    "\n",
    "        for(int i=0;i<m;i++){\n",
    "            for(int j=0;j<n;j++){\n",
    "                mat[j][i]=matrix[i][j];\n",
    "            }\n",
    "        }\n",
    "        return mat;\n",
    "    }\n",
    "}\n"
   ]
  },
  {
   "cell_type": "markdown",
   "id": "0776a134",
   "metadata": {},
   "source": [
    "### Question 4:Given an integer array nums of 2n integers, group these integers into n pairs (a1, b1), (a2, b2), ..., (an, bn) such that the sum of min(ai, bi) for all i is maximized. Return the maximized sum."
   ]
  },
  {
   "cell_type": "markdown",
   "id": "edf1a5e1",
   "metadata": {},
   "source": [
    "package Assignment_4;\n",
    "\n",
    "import java.util.*;\n",
    "\n",
    "public class Q4 {\n",
    "\n",
    "    public static void main(String[] args) {\n",
    "        int[] nums = {1,4,3,2};\n",
    "        int ans=arrayPairSum(nums);\n",
    "        System.out.println(ans);\n",
    "    }\n",
    "    public static int arrayPairSum(int[] nums) {\n",
    "        Arrays.sort(nums);\n",
    "        int res=0;\n",
    "        for(int i=0;i<nums.length;i=i+2){\n",
    "            res+=nums[i];\n",
    "        }\n",
    "        return res;\n",
    "    }\n",
    "}\n"
   ]
  },
  {
   "cell_type": "markdown",
   "id": "67958dc7",
   "metadata": {},
   "source": [
    "### Question 5:You have n coins and you want to build a staircase with these coins. The staircase consists of k rows where the ith row has exactly i coins. The last row of the staircase may be incomplete."
   ]
  },
  {
   "cell_type": "markdown",
   "id": "8c0dc1d2",
   "metadata": {},
   "source": [
    "package Assignment_4;\n",
    "\n",
    "public class Q5 {\n",
    "\n",
    "    public static void main(String[] args) {\n",
    "        int ans=arrangeCoins(5);\n",
    "        System.out.println(ans);\n",
    "    }\n",
    "    public static int arrangeCoins(int n) {\n",
    "        int indx=1;\n",
    "        int count=0;\n",
    "        while(n>=indx){\n",
    "            n=n-indx;\n",
    "            count++;\n",
    "            indx++;\n",
    "        }\n",
    "        return count;\n",
    "    }\n",
    "}\n"
   ]
  },
  {
   "cell_type": "markdown",
   "id": "864ce789",
   "metadata": {},
   "source": [
    "### Question 6:Given an integer array nums sorted in non-decreasing order, return an array of the squares of each number sorted in non-decreasing order."
   ]
  },
  {
   "cell_type": "markdown",
   "id": "edf571a8",
   "metadata": {},
   "source": [
    "package Assignment_4;\n",
    "\n",
    "import java.util.*;\n",
    "\n",
    "public class Q6 {\n",
    "\n",
    "    public static void main(String[] args) {\n",
    "       int[] nums = {-4,-1,0,3,10};\n",
    "       int[]arr=sortedSquares(nums);\n",
    "        System.out.println(Arrays.toString(arr));\n",
    "    }\n",
    "    public static int[] sortedSquares(int[] nums) {\n",
    "        int[]arr=new int[nums.length];\n",
    "        for(int i=0;i<nums.length;i++){\n",
    "            arr[i]=nums[i]*nums[i];\n",
    "        }\n",
    "        Arrays.sort(arr);\n",
    "        return arr;\n",
    "    }\n",
    "}\n"
   ]
  },
  {
   "cell_type": "markdown",
   "id": "d0363077",
   "metadata": {},
   "source": [
    "### Question 7:You are given an m x n matrix M initialized with all 0's and an array of operations ops, where ops[i] = [ai, bi] means M[x][y] should be incremented by one for all 0 <= x < ai and 0 <= y < bi."
   ]
  },
  {
   "cell_type": "markdown",
   "id": "1aaa5d13",
   "metadata": {},
   "source": [
    "package Assignment_4;\n",
    "\n",
    "public class Q7 {\n",
    "\n",
    "    public static void main(String[] args) {\n",
    "        int m = 3;\n",
    "        int n = 3;\n",
    "        int[][]ops = {{2,2},{3,3}};\n",
    "        int ans=maxCount(m,n,ops);\n",
    "        System.out.println(ans);\n",
    "    }\n",
    "\n",
    "    public static int maxCount(int m, int n, int[][] ops) {\n",
    "        if (ops == null || ops.length == 0) {\n",
    "            return m * n;\n",
    "        }\n",
    "\n",
    "        int row = Integer.MAX_VALUE, col = Integer.MAX_VALUE;\n",
    "        for(int[] op : ops) {\n",
    "            row = Math.min(row, op[0]);\n",
    "            col = Math.min(col, op[1]);\n",
    "        }\n",
    "\n",
    "        return row * col;\n",
    "    }\n",
    "\n",
    "}\n"
   ]
  },
  {
   "cell_type": "markdown",
   "id": "00bbd1b8",
   "metadata": {},
   "source": [
    "### Question 8:Given the array nums consisting of 2n elements in the form [x1,x2,...,xn,y1,y2,...,yn].Return the array in the form* [x1,y1,x2,y2,...,xn,yn].\n"
   ]
  },
  {
   "cell_type": "markdown",
   "id": "9b0cb0e8",
   "metadata": {},
   "source": [
    "package Assignment_4;\n",
    "\n",
    "import java.util.Arrays;\n",
    "\n",
    "public class Q8 {\n",
    "\n",
    "    public static void main(String[] args) {\n",
    "        int[]nums = {2,5,1,3,4,7};\n",
    "        int n = 3;\n",
    "        int arr[]=shuffle(nums, n);\n",
    "        for(int i=0;i<arr.length;i++){\n",
    "            System.out.print(arr[i]+\" \");\n",
    "        }\n",
    "    }\n",
    "    public static int[] shuffle(int[] nums, int n) {\n",
    "        int mid=n;\n",
    "        int ans[]=new int[nums.length];\n",
    "        int i=0;\n",
    "        int j=0;\n",
    "        while(i<nums.length && mid<nums.length && j<mid){\n",
    "            ans[i]=nums[j];\n",
    "            i=i+1;\n",
    "            ans[i]=nums[mid];\n",
    "            i++;\n",
    "            mid++;\n",
    "            j++;\n",
    "        }\n",
    "        return ans;\n",
    "    }\n",
    "}\n"
   ]
  },
  {
   "cell_type": "code",
   "execution_count": null,
   "id": "619b5d47",
   "metadata": {},
   "outputs": [],
   "source": []
  }
 ],
 "metadata": {
  "kernelspec": {
   "display_name": "Python 3 (ipykernel)",
   "language": "python",
   "name": "python3"
  },
  "language_info": {
   "codemirror_mode": {
    "name": "ipython",
    "version": 3
   },
   "file_extension": ".py",
   "mimetype": "text/x-python",
   "name": "python",
   "nbconvert_exporter": "python",
   "pygments_lexer": "ipython3",
   "version": "3.10.7"
  }
 },
 "nbformat": 4,
 "nbformat_minor": 5
}
