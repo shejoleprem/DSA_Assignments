{
 "cells": [
  {
   "cell_type": "markdown",
   "id": "cf523435",
   "metadata": {},
   "source": [
    "## Assignment_2_Answers"
   ]
  },
  {
   "cell_type": "markdown",
   "id": "b872560c",
   "metadata": {},
   "source": [
    "### Question 1:Given an integer array nums of 2n integers, group these integers into n pairs (a1, b1), (a2, b2),..., (an, bn) such that the sum of min(ai, bi) for all i is maximized. Return the maximized sum."
   ]
  },
  {
   "cell_type": "markdown",
   "id": "8db575f8",
   "metadata": {},
   "source": [
    "package Assignment_2;\n",
    "\n",
    "import java.util.*;\n",
    "\n",
    "public class Q_1 {\n",
    "\n",
    "    public static void main(String[] args) {\n",
    "       int[] nums = {1,4,3,2};\n",
    "       int ans=arrayPairSum(nums);\n",
    "        System.out.println(ans);\n",
    "    }\n",
    "    public static int arrayPairSum(int[] nums) {\n",
    "        Arrays.sort(nums);\n",
    "        int res=0;\n",
    "        for(int i=0;i<nums.length;i=i+2){\n",
    "            res+=nums[i];\n",
    "        }\n",
    "        return res;\n",
    "    }\n",
    "}\n"
   ]
  },
  {
   "cell_type": "markdown",
   "id": "29da5b0a",
   "metadata": {},
   "source": [
    "### Question 2: Alice has n candies, where the ith candy is of type candyType[i]. Alice noticed that she started to gain weight, so she visited a doctor. The doctor advised Alice to only eat n / 2 of the candies she has (n is always even). Alice likes her candies very much, and she wants to eat the maximum number of different types of candies while still following the doctor's advice. Given the integer array candyType of length n, return the maximum number of different types of candies she can eat if she only eats n / 2 of them."
   ]
  },
  {
   "cell_type": "markdown",
   "id": "9c65a000",
   "metadata": {},
   "source": [
    "package Assignment_2;\n",
    "\n",
    "import java.util.HashSet;\n",
    "\n",
    "public class Q2 {\n",
    "\n",
    "    public static void main(String[] args) {\n",
    "       int[] candyType = {1,1,2,2,3,3};\n",
    "       int ans=distributeCandies(candyType);\n",
    "        System.out.println(ans);\n",
    "    }\n",
    "    public static int distributeCandies(int[] candyType) {\n",
    "        HashSet<Integer> s=new HashSet();\n",
    "        int n=candyType.length/2;\n",
    "        for(int i=0;i<candyType.length;i++){\n",
    "            s.add(candyType[i]);\n",
    "        }\n",
    "        if(s.size()>n){\n",
    "            return n;\n",
    "        }else{\n",
    "            return s.size();\n",
    "        }\n",
    "    }\n",
    "\n",
    "}\n"
   ]
  },
  {
   "cell_type": "markdown",
   "id": "bb8e0d77",
   "metadata": {},
   "source": [
    "### Question 3:We define a harmonious array as an array where the difference between its maximum value and its minimum value is exactly 1.Given an integer array nums, return the length of its longest harmonious subsequence among all its possible subsequences. A subsequence of an array is a sequence that can be derived from the array by deleting some or no elements without changing the order of the remaining elements."
   ]
  },
  {
   "cell_type": "markdown",
   "id": "42e7232c",
   "metadata": {},
   "source": [
    "package Assignment_2;\n",
    "\n",
    "import java.util.*;\n",
    "\n",
    "public class Q3 {\n",
    "\n",
    "    public static void main(String[] args) {\n",
    "        int[]nums = {1,3,2,2,5,2,3,7};\n",
    "        System.out.println(findLHS(nums));\n",
    "    }\n",
    "    public static int findLHS(int[] nums) {\n",
    "        HashMap<Integer,Integer> hm=new HashMap<>();\n",
    "        int ans=0;\n",
    "        for(int i=0;i<nums.length;i++){\n",
    "            if(hm.containsKey(nums[i])){\n",
    "                hm.put(nums[i],hm.get(nums[i])+1);\n",
    "            }else{\n",
    "                hm.put(nums[i],1);\n",
    "            }\n",
    "        }\n",
    "\n",
    "        for(Map.Entry<Integer,Integer>entry:hm.entrySet()){\n",
    "            if(hm.containsKey(entry.getKey()+1)){\n",
    "                int count=entry.getValue()+hm.get(entry.getKey()+1);\n",
    "                ans=Math.max(ans,count);\n",
    "            }\n",
    "        }\n",
    "        return ans;\n",
    "\n",
    "    }\n",
    "}\n"
   ]
  },
  {
   "cell_type": "markdown",
   "id": "46a13038",
   "metadata": {},
   "source": [
    "### Question 4:You have a long flowerbed in which some of the plots are planted, and some are not.However, flowers cannot be planted in adjacent plots.Given an integer array flowerbed containing 0's and 1's, where 0 means empty and 1 means not empty, and an integer n, return true if n new flowers can be planted in the flowerbed without violating the no-adjacent-flowers rule and false otherwise."
   ]
  },
  {
   "cell_type": "markdown",
   "id": "a1dbccdb",
   "metadata": {},
   "source": [
    "package Assignment_2;\n",
    "\n",
    "public class Q4 {\n",
    "\n",
    "\n",
    "    public static void main(String[] args) {\n",
    "        int []flowerbed = {1,0,0,0,1};\n",
    "        int n=1;\n",
    "        System.out.println(canPlaceFlowers(flowerbed,n));\n",
    "    }\n",
    "    public static boolean canPlaceFlowers(int[] flowerbed, int n) {\n",
    "        int count = 0;\n",
    "        if (flowerbed.length == 1 && flowerbed[0] == 0) {\n",
    "            return true;\n",
    "        }\n",
    "        for (int i = 0; i < flowerbed.length; i++) {\n",
    "            if (i == 0) {\n",
    "                if (flowerbed[i] == 0 && flowerbed[i + 1] == 0) {\n",
    "                    flowerbed[i] = 1;\n",
    "                    count++;\n",
    "                }\n",
    "            }\n",
    "            if (i == flowerbed.length - 1) {\n",
    "                if (flowerbed[i] == 0 && flowerbed[i - 1] == 0) {\n",
    "                    flowerbed[i] = 1;\n",
    "                    count++;\n",
    "                }\n",
    "            } else {\n",
    "                if (flowerbed[i] == 0 && i > 0) {\n",
    "                    if (flowerbed[i - 1] == 0 && flowerbed[i + 1] == 0) {\n",
    "                        flowerbed[i] = 1;\n",
    "                        count++;\n",
    "                    }\n",
    "                }\n",
    "            }\n",
    "        }\n",
    "        if (count >= n) {\n",
    "            return true;\n",
    "        } else {\n",
    "            return false;\n",
    "        }\n",
    "    }}\n"
   ]
  },
  {
   "cell_type": "markdown",
   "id": "fa219f8e",
   "metadata": {},
   "source": [
    "### Question 5:Given an integer array nums, find three numbers whose product is maximum and return the maximum product."
   ]
  },
  {
   "cell_type": "markdown",
   "id": "e4d46452",
   "metadata": {},
   "source": [
    "package Assignment_2;\n",
    "\n",
    "import java.util.*;\n",
    "\n",
    "public class Q5 {\n",
    "\n",
    "    public static void main(String[] args) {\n",
    "        int []nums = {1,2,3};\n",
    "        System.out.println(maximumProduct(nums));;\n",
    "    }\n",
    "    public static int maximumProduct(int[] nums) {\n",
    "        Arrays.sort(nums);\n",
    "        return Math.max(nums[0]*nums[1]*nums[nums.length-1],nums[nums.length-1]*nums[nums.length-2]*nums[nums.length-3]);\n",
    "    }\n",
    "}\n"
   ]
  },
  {
   "cell_type": "markdown",
   "id": "ff3cfab3",
   "metadata": {},
   "source": [
    "### Question 6:Given an array of integers nums which is sorted in ascending order, and an integer target,write a function to search target in nums. If target exists, then return its index. Otherwise,return -1."
   ]
  },
  {
   "cell_type": "markdown",
   "id": "f5985f99",
   "metadata": {},
   "source": [
    "package Assignment_2;\n",
    "\n",
    "import java.util.*;\n",
    "\n",
    "public class Q5 {\n",
    "\n",
    "    public static void main(String[] args) {\n",
    "        int []nums = {1,2,3};\n",
    "        System.out.println(maximumProduct(nums));;\n",
    "    }\n",
    "    public static int maximumProduct(int[] nums) {\n",
    "        Arrays.sort(nums);\n",
    "        return Math.max(nums[0]*nums[1]*nums[nums.length-1],nums[nums.length-1]*nums[nums.length-2]*nums[nums.length-3]);\n",
    "    }\n",
    "}\n"
   ]
  },
  {
   "cell_type": "markdown",
   "id": "85fdb7fb",
   "metadata": {},
   "source": [
    "### Question 7:An array is monotonic if it is either monotone increasing or monotone decreasing. An array nums is monotone increasing if for all i <= j, nums[i] <= nums[j]. An array nums is monotone decreasing if for all i <= j, nums[i] >= nums[j].Given an integer array nums, return true if the given array is monotonic, or false otherwise."
   ]
  },
  {
   "cell_type": "markdown",
   "id": "2cfad978",
   "metadata": {},
   "source": [
    "package Assignment_2;\n",
    "\n",
    "public class Q7 {\n",
    "\n",
    "    public static void main(String[] args) {\n",
    "        int []nums ={1,1,0};\n",
    "\n",
    "        System.out.println(isMonotonic(nums));\n",
    "    }\n",
    "    public static boolean isMonotonic(int[] nums) {\n",
    "        if(nums[0]<nums[1]){\n",
    "            for(int i=1;i<nums.length-1;i++){\n",
    "                if(nums[i]<=nums[i+1]){\n",
    "                    continue;\n",
    "                }else{\n",
    "                    return false;\n",
    "                }\n",
    "            }\n",
    "        }else{\n",
    "            for(int i=0;i<nums.length-1;i++){\n",
    "                if(nums[i]>=nums[i+1]){\n",
    "                    continue;\n",
    "                }else{\n",
    "                    return false;\n",
    "                }\n",
    "            }\n",
    "        }\n",
    "\n",
    "        return true;\n",
    "    }\n",
    "}\n"
   ]
  },
  {
   "cell_type": "markdown",
   "id": "6c861da7",
   "metadata": {},
   "source": [
    "### Question 8: You are given an integer array nums and an integer k. In one operation, you can choose any index i where 0 <= i < nums.length and change nums[i] to nums[i] + x where x is an integer from the range [-k, k]. You can apply this operation at most once for each index i. The score of nums is the difference between the maximum and minimum elements in nums. Return the minimum score of nums after applying the mentioned operation at most once for each index in it."
   ]
  },
  {
   "cell_type": "markdown",
   "id": "a32b63b7",
   "metadata": {},
   "source": [
    "package Assignment_2;\n",
    "\n",
    "public class Q8 {\n",
    "\n",
    "\n",
    "    public static void main(String[] args) {\n",
    "        int[]nums = {1,3,6};\n",
    "        int ans=smallestRangeI(nums,3);\n",
    "        System.out.println(ans);\n",
    "    }\n",
    "    public static int smallestRangeI(int[] nums, int k) {\n",
    "        int min=Integer.MAX_VALUE;\n",
    "        int max=Integer.MIN_VALUE;\n",
    "\n",
    "        for(int i=0;i<nums.length;i++){\n",
    "            min=Math.min(min,nums[i]);\n",
    "            max=Math.max(max,nums[i]);\n",
    "\n",
    "        }\n",
    "\n",
    "        int ans=(max-k)-(min+k);\n",
    "        return Math.max(0,ans);\n",
    "    }\n",
    "}\n"
   ]
  },
  {
   "cell_type": "code",
   "execution_count": null,
   "id": "e56797e7",
   "metadata": {},
   "outputs": [],
   "source": []
  }
 ],
 "metadata": {
  "kernelspec": {
   "display_name": "Python 3 (ipykernel)",
   "language": "python",
   "name": "python3"
  },
  "language_info": {
   "codemirror_mode": {
    "name": "ipython",
    "version": 3
   },
   "file_extension": ".py",
   "mimetype": "text/x-python",
   "name": "python",
   "nbconvert_exporter": "python",
   "pygments_lexer": "ipython3",
   "version": "3.10.7"
  }
 },
 "nbformat": 4,
 "nbformat_minor": 5
}
